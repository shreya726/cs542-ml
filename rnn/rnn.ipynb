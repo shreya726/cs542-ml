{
 "cells": [
  {
   "cell_type": "code",
   "execution_count": 1,
   "metadata": {
    "collapsed": false
   },
   "outputs": [
    {
     "name": "stderr",
     "output_type": "stream",
     "text": [
      "Using TensorFlow backend.\n"
     ]
    }
   ],
   "source": [
    "from keras.layers.core import Dense, Activation, Dropout\n",
    "from keras.layers import Dense, Embedding\n",
    "from keras.layers import LSTM\n",
    "\n",
    "import pandas as pd\n",
    "import numpy as np"
   ]
  },
  {
   "cell_type": "code",
   "execution_count": 2,
   "metadata": {
    "collapsed": true
   },
   "outputs": [],
   "source": [
    "#parameters\n",
    "maxlen = 30 # FIXME \n",
    "labels = 2"
   ]
  },
  {
   "cell_type": "code",
   "execution_count": 5,
   "metadata": {
    "collapsed": false,
    "scrolled": true
   },
   "outputs": [
    {
     "name": "stdout",
     "output_type": "stream",
     "text": [
      "                       first              last  b_or_n  firstlen\n",
      "0             ithalohfonseca        chaverinho       1        14\n",
      "1                    gustavo  gon\\xc3\\xa7alves       1         7\n",
      "2                     rafael           geraldo       1         6\n",
      "3                      anton          prasetyo       1         5\n",
      "4                   cristyan            victor       1         8\n",
      "5      valsemorborgesdesouza              neto       1        21\n",
      "6            diegodereknobre             nobre       1        15\n",
      "7                 paulonatan            santos       1        10\n",
      "8              jardelurgalde          oliveira       1        13\n",
      "9                   deolindo           barbosa       1         8\n",
      "10         gabrielbitencourt         figueredo       1        17\n",
      "11                   eduardo          carvalho       1         7\n",
      "12                   matheus               rct       1         7\n",
      "13                  fernando             cesar       1         8\n",
      "14                   gustavo           batalha       1         7\n",
      "15                   muhamad           riyandi       1         7\n",
      "16          oohtalldomatheus               pjl       1        16\n",
      "17                   gabriel     ara\\xc3\\xbajo       1         7\n",
      "18                   raphael             rocha       1         7\n",
      "19                    thiago          urameshi       1         6\n",
      "20                 juliandra         bimantara       1         9\n",
      "21                   gustavo            araujo       1         7\n",
      "22                 guilherme           francco       1         9\n",
      "23              jefersonhugo           ribeiro       1        12\n",
      "24                     allan            victor       1         5\n",
      "25                   gabriel             sousa       1         7\n",
      "26                   willian          oliveira       1         7\n",
      "27                 welington            junior       1         9\n",
      "28               eliasdaniel            amador       1        11\n",
      "29                     ruben            wesley       1         5\n",
      "...                      ...               ...     ...       ...\n",
      "59970                  casey            hewett       0         5\n",
      "59971                  karan       mirchandani       0         5\n",
      "59972                 angela              chin       0         6\n",
      "59973                    max          reichard       0         3\n",
      "59974                 rachel            raasch       0         6\n",
      "59975                  jenny           montoya       0         5\n",
      "59976                   kyle       satterfield       0         4\n",
      "59977                    mia             shang       0         3\n",
      "59978                brianne        vasarhelyi       0         7\n",
      "59979                william                su       0         7\n",
      "59980                  paige            koning       0         5\n",
      "59981               mitchell         stevenson       0         8\n",
      "59982               gretchen       blankinship       0         8\n",
      "59983                kashish             patel       0         7\n",
      "59984                  rohan             arora       0         5\n",
      "59985                   elly           leidner       0         4\n",
      "59986                natasha          townsend       0         7\n",
      "59987                    kat             early       0         3\n",
      "59988                 chapel            fowler       0         6\n",
      "59989                lindsey              pope       0         7\n",
      "59990                   tony              bird       0         4\n",
      "59991                 bharat              modi       0         6\n",
      "59992                  jenny                li       0         5\n",
      "59993                 sharon         navarrete       0         6\n",
      "59994                    sam              lowe       0         3\n",
      "59995                  kevin             zheng       0         5\n",
      "59996                 manjil             thapa       0         6\n",
      "59997                  david           dominic       0         5\n",
      "59998              katherine              ross       0         9\n",
      "59999          garrettjoseph            bolter       0        13\n",
      "\n",
      "[59996 rows x 4 columns]\n"
     ]
    }
   ],
   "source": [
    "input = pd.read_csv(\"data_new/merged.csv\",header=None)\n",
    "input.columns = ['first', 'last','b_or_n']\n",
    "\n",
    "# remove encode \n",
    "input['first'] = input['first'].str[2:-1]\n",
    "input['last'] = input['last'].str[2:-1]\n",
    "\n",
    "input['firstlen']= [len(str(i)) for i in input['first']]\n",
    "input1 = input[(input['firstlen'] >= 2) ] #FIXME\n",
    "print(input1)"
   ]
  },
  {
   "cell_type": "code",
   "execution_count": 5,
   "metadata": {
    "collapsed": true
   },
   "outputs": [],
   "source": [
    "firsts = input['first']\n",
    "\n",
    "labels = input['b_or_n']\n",
    "vocab = set(' '.join([str(i) for i in firsts]))\n",
    "vocab.add('END')\n",
    "len_vocab = len(vocab)"
   ]
  },
  {
   "cell_type": "code",
   "execution_count": 7,
   "metadata": {
    "collapsed": true
   },
   "outputs": [],
   "source": [
    "char_index = dict((c, i) for i, c in enumerate(vocab))"
   ]
  },
  {
   "cell_type": "code",
   "execution_count": 9,
   "metadata": {
    "collapsed": false
   },
   "outputs": [
    {
     "name": "stdout",
     "output_type": "stream",
     "text": [
      "                   first              last  b_or_n  firstlen\n",
      "1                gustavo  gon\\xc3\\xa7alves       1         7\n",
      "2                 rafael           geraldo       1         6\n",
      "3                  anton          prasetyo       1         5\n",
      "7             paulonatan            santos       1        10\n",
      "8          jardelurgalde          oliveira       1        13\n",
      "10     gabrielbitencourt         figueredo       1        17\n",
      "12               matheus               rct       1         7\n",
      "13              fernando             cesar       1         8\n",
      "14               gustavo           batalha       1         7\n",
      "15               muhamad           riyandi       1         7\n",
      "16      oohtalldomatheus               pjl       1        16\n",
      "17               gabriel     ara\\xc3\\xbajo       1         7\n",
      "19                thiago          urameshi       1         6\n",
      "20             juliandra         bimantara       1         9\n",
      "21               gustavo            araujo       1         7\n",
      "22             guilherme           francco       1         9\n",
      "23          jefersonhugo           ribeiro       1        12\n",
      "24                 allan            victor       1         5\n",
      "25               gabriel             sousa       1         7\n",
      "26               willian          oliveira       1         7\n",
      "27             welington            junior       1         9\n",
      "28           eliasdaniel            amador       1        11\n",
      "29                 ruben            wesley       1         5\n",
      "30                hazard                id       1         6\n",
      "32                 pedro             lucas       1         5\n",
      "34                 andre          ferreira       1         5\n",
      "35                 livia            correa       1         5\n",
      "36            ibnurahman                 r       1        10\n",
      "38               gabriel            kemotu       1         7\n",
      "39                 erick            macedo       1         5\n",
      "...                  ...               ...     ...       ...\n",
      "59963            olimpia          lamberti       0         7\n",
      "59965              sarah             smith       0         5\n",
      "59967   tamikiamccullers           mcneill       0        16\n",
      "59969             patton               orr       0         6\n",
      "59970              casey            hewett       0         5\n",
      "59971              karan       mirchandani       0         5\n",
      "59973                max          reichard       0         3\n",
      "59974             rachel            raasch       0         6\n",
      "59975              jenny           montoya       0         5\n",
      "59976               kyle       satterfield       0         4\n",
      "59977                mia             shang       0         3\n",
      "59978            brianne        vasarhelyi       0         7\n",
      "59979            william                su       0         7\n",
      "59980              paige            koning       0         5\n",
      "59981           mitchell         stevenson       0         8\n",
      "59982           gretchen       blankinship       0         8\n",
      "59983            kashish             patel       0         7\n",
      "59984              rohan             arora       0         5\n",
      "59985               elly           leidner       0         4\n",
      "59987                kat             early       0         3\n",
      "59989            lindsey              pope       0         7\n",
      "59990               tony              bird       0         4\n",
      "59992              jenny                li       0         5\n",
      "59993             sharon         navarrete       0         6\n",
      "59994                sam              lowe       0         3\n",
      "59995              kevin             zheng       0         5\n",
      "59996             manjil             thapa       0         6\n",
      "59997              david           dominic       0         5\n",
      "59998          katherine              ross       0         9\n",
      "59999      garrettjoseph            bolter       0        13\n",
      "\n",
      "[47840 rows x 4 columns]\n"
     ]
    }
   ],
   "source": [
    "#train test split \n",
    "msk = np.random.rand(len(input1)) < 0.8\n",
    "\n",
    "train = input1[msk]\n",
    "test = input1[~msk]\n",
    "\n",
    "print(train)"
   ]
  },
  {
   "cell_type": "code",
   "execution_count": 12,
   "metadata": {
    "collapsed": true
   },
   "outputs": [],
   "source": [
    "def set_flag(i):\n",
    "    tmp = np.zeros(39);\n",
    "    tmp[i] = 1\n",
    "    return(tmp)"
   ]
  },
  {
   "cell_type": "code",
   "execution_count": 14,
   "metadata": {
    "collapsed": true
   },
   "outputs": [],
   "source": [
    "# Truncating and padding training data\n",
    "train_X = []\n",
    "train_Y = []\n",
    "trunc_train_first = [str(i)[0:maxlen] for i in train['first']]\n",
    "for i in trunc_train_first:\n",
    "    tmp = [set_flag(char_index[j]) for j in str(i)]\n",
    "    for k in range(0,maxlen - len(str(i))):\n",
    "        tmp.append(set_flag(char_index[\"END\"]))\n",
    "    train_X.append(tmp)\n",
    "for i in train['b_or_n']:\n",
    "    if i == 1:\n",
    "        train_Y.append([1,0])\n",
    "    else:\n",
    "        train_Y.append([0,1])\n",
    "    "
   ]
  },
  {
   "cell_type": "code",
   "execution_count": 15,
   "metadata": {
    "collapsed": false
   },
   "outputs": [
    {
     "data": {
      "text/plain": [
       "(47840, 30, 39)"
      ]
     },
     "execution_count": 15,
     "metadata": {},
     "output_type": "execute_result"
    }
   ],
   "source": [
    "np.asarray(train_X).shape"
   ]
  },
  {
   "cell_type": "code",
   "execution_count": 16,
   "metadata": {
    "collapsed": false
   },
   "outputs": [
    {
     "data": {
      "text/plain": [
       "(47840, 2)"
      ]
     },
     "execution_count": 16,
     "metadata": {},
     "output_type": "execute_result"
    }
   ],
   "source": [
    "np.asarray(train_Y).shape"
   ]
  },
  {
   "cell_type": "code",
   "execution_count": 17,
   "metadata": {
    "collapsed": false
   },
   "outputs": [
    {
     "name": "stdout",
     "output_type": "stream",
     "text": [
      "Build model...\n"
     ]
    }
   ],
   "source": [
    "#build the model: 2 stacked LSTM\n",
    "print('Building LSTM model')\n",
    "model = Sequential()\n",
    "model.add(LSTM(512, return_sequences=True, input_shape=(maxlen,len_vocab)))\n",
    "model.add(Dropout(0.2))\n",
    "model.add(LSTM(512, return_sequences=False))\n",
    "model.add(Dropout(0.2))\n",
    "model.add(Dense(2))\n",
    "\n",
    "# Softmax activation function\n",
    "model.add(Activation('softmax'))\n",
    "\n",
    "# Cross-entropy loss, metric is accuracy\n",
    "model.compile(loss='categorical_crossentropy', optimizer='adam',metrics=['accuracy'])"
   ]
  },
  {
   "cell_type": "code",
   "execution_count": 18,
   "metadata": {
    "collapsed": true
   },
   "outputs": [],
   "source": [
    "# Truncating and padding test data\n",
    "\n",
    "test_X = []\n",
    "test_Y = []\n",
    "trunc_test_first = [str(i)[0:maxlen] for i in test['first']]\n",
    "for i in trunc_test_first:\n",
    "    tmp = [set_flag(char_index[j]) for j in str(i)]\n",
    "    for k in range(0,maxlen - len(str(i))):\n",
    "        tmp.append(set_flag(char_index[\"END\"]))\n",
    "    test_X.append(tmp)\n",
    "for i in test['b_or_n']:\n",
    "    if i == 1:\n",
    "        test_Y.append([1,0])\n",
    "    else:\n",
    "        test_Y.append([0,1]) "
   ]
  },
  {
   "cell_type": "code",
   "execution_count": 19,
   "metadata": {
    "collapsed": false
   },
   "outputs": [
    {
     "name": "stdout",
     "output_type": "stream",
     "text": [
      "(12156, 30, 39)\n",
      "(12156, 2)\n"
     ]
    }
   ],
   "source": [
    "print(np.asarray(test_X).shape)\n",
    "print(np.asarray(test_Y).shape)"
   ]
  },
  {
   "cell_type": "code",
   "execution_count": null,
   "metadata": {
    "collapsed": false
   },
   "outputs": [
    {
     "name": "stderr",
     "output_type": "stream",
     "text": [
      "/Users/DuaaTashkandi/anaconda/lib/python3.6/site-packages/keras/models.py:939: UserWarning: The `nb_epoch` argument in `fit` has been renamed `epochs`.\n",
      "  warnings.warn('The `nb_epoch` argument in `fit` '\n"
     ]
    },
    {
     "name": "stdout",
     "output_type": "stream",
     "text": [
      "Train on 47840 samples, validate on 12156 samples\n",
      "Epoch 1/10\n",
      "47840/47840 [==============================] - 813s 17ms/step - loss: 0.6112 - acc: 0.6554 - val_loss: 0.5452 - val_acc: 0.7470\n",
      "Epoch 2/10\n",
      "47000/47840 [============================>.] - ETA: 13s - loss: 0.5431 - acc: 0.7449"
     ]
    }
   ],
   "source": [
    "batch_size=1000\n",
    "model.fit(train_X, train_Y,batch_size=batch_size,nb_epoch=10,validation_data=(test_X, test_Y))"
   ]
  },
  {
   "cell_type": "code",
   "execution_count": 290,
   "metadata": {
    "collapsed": false
   },
   "outputs": [
    {
     "name": "stdout",
     "output_type": "stream",
     "text": [
      "Train on 12198 samples, validate on 3028 samples\n",
      "Epoch 1/50\n",
      "12198/12198 [==============================] - 145s - loss: 0.4107 - acc: 0.8137 - val_loss: 0.4408 - val_acc: 0.7966\n",
      "Epoch 2/50\n",
      "12198/12198 [==============================] - 144s - loss: 0.3912 - acc: 0.8254 - val_loss: 0.4479 - val_acc: 0.7936\n",
      "Epoch 3/50\n",
      "12198/12198 [==============================] - 145s - loss: 0.3927 - acc: 0.8228 - val_loss: 0.4511 - val_acc: 0.7982\n",
      "Epoch 4/50\n",
      "12198/12198 [==============================] - 145s - loss: 0.3730 - acc: 0.8344 - val_loss: 0.4253 - val_acc: 0.8071\n",
      "Epoch 5/50\n",
      "12198/12198 [==============================] - 145s - loss: 0.3640 - acc: 0.8396 - val_loss: 0.4240 - val_acc: 0.8164\n",
      "Epoch 6/50\n",
      "12198/12198 [==============================] - 145s - loss: 0.3490 - acc: 0.8505 - val_loss: 0.4183 - val_acc: 0.8180\n",
      "Epoch 7/50\n",
      "12198/12198 [==============================] - 145s - loss: 0.3411 - acc: 0.8542 - val_loss: 0.4089 - val_acc: 0.8243\n",
      "Epoch 8/50\n",
      "12198/12198 [==============================] - 145s - loss: 0.3396 - acc: 0.8529 - val_loss: 0.4026 - val_acc: 0.8184\n",
      "Epoch 9/50\n",
      "12198/12198 [==============================] - 146s - loss: 0.3294 - acc: 0.8590 - val_loss: 0.3781 - val_acc: 0.8451\n",
      "Epoch 10/50\n",
      "12198/12198 [==============================] - 145s - loss: 0.3159 - acc: 0.8684 - val_loss: 0.3935 - val_acc: 0.8332\n",
      "Epoch 11/50\n",
      "12198/12198 [==============================] - 144s - loss: 0.3025 - acc: 0.8736 - val_loss: 0.3912 - val_acc: 0.8425\n",
      "Epoch 12/50\n",
      "12198/12198 [==============================] - 145s - loss: 0.2921 - acc: 0.8808 - val_loss: 0.3981 - val_acc: 0.8408\n",
      "Epoch 13/50\n",
      "12198/12198 [==============================] - 144s - loss: 0.2885 - acc: 0.8800 - val_loss: 0.4018 - val_acc: 0.8336\n",
      "Epoch 14/50\n",
      "12198/12198 [==============================] - 145s - loss: 0.2823 - acc: 0.8853 - val_loss: 0.3687 - val_acc: 0.8464\n",
      "Epoch 15/50\n",
      "12198/12198 [==============================] - 145s - loss: 0.2763 - acc: 0.8879 - val_loss: 0.3866 - val_acc: 0.8606\n",
      "Epoch 16/50\n",
      "12198/12198 [==============================] - 145s - loss: 0.2653 - acc: 0.8933 - val_loss: 0.3820 - val_acc: 0.8554\n",
      "Epoch 17/50\n",
      "12198/12198 [==============================] - 145s - loss: 0.2573 - acc: 0.8970 - val_loss: 0.3962 - val_acc: 0.8471\n",
      "Epoch 18/50\n",
      "12198/12198 [==============================] - 145s - loss: 0.2651 - acc: 0.8919 - val_loss: 0.3756 - val_acc: 0.8501\n",
      "Epoch 19/50\n",
      "12198/12198 [==============================] - 145s - loss: 0.2539 - acc: 0.8982 - val_loss: 0.3837 - val_acc: 0.8491\n",
      "Epoch 20/50\n",
      "12198/12198 [==============================] - 144s - loss: 0.2576 - acc: 0.8970 - val_loss: 0.4036 - val_acc: 0.8494\n",
      "Epoch 21/50\n",
      "12198/12198 [==============================] - 146s - loss: 0.2476 - acc: 0.9010 - val_loss: 0.4013 - val_acc: 0.8471\n",
      "Epoch 22/50\n",
      "12198/12198 [==============================] - 144s - loss: 0.2485 - acc: 0.8985 - val_loss: 0.3795 - val_acc: 0.8587\n",
      "Epoch 23/50\n",
      "12198/12198 [==============================] - 144s - loss: 0.2273 - acc: 0.9087 - val_loss: 0.3745 - val_acc: 0.8583\n",
      "Epoch 24/50\n",
      "12198/12198 [==============================] - 145s - loss: 0.2287 - acc: 0.9074 - val_loss: 0.3830 - val_acc: 0.8570\n",
      "Epoch 25/50\n",
      "12198/12198 [==============================] - 145s - loss: 0.2205 - acc: 0.9097 - val_loss: 0.3870 - val_acc: 0.8563\n",
      "Epoch 26/50\n",
      "12198/12198 [==============================] - 145s - loss: 0.2133 - acc: 0.9150 - val_loss: 0.3778 - val_acc: 0.8656\n",
      "Epoch 27/50\n",
      "12198/12198 [==============================] - 145s - loss: 0.2024 - acc: 0.9225 - val_loss: 0.3910 - val_acc: 0.8646\n",
      "Epoch 28/50\n",
      "12198/12198 [==============================] - 145s - loss: 0.1911 - acc: 0.9244 - val_loss: 0.4067 - val_acc: 0.8570\n",
      "Epoch 29/50\n",
      "12198/12198 [==============================] - 144s - loss: 0.1869 - acc: 0.9241 - val_loss: 0.4113 - val_acc: 0.8633\n",
      "Epoch 30/50\n",
      "12198/12198 [==============================] - 147s - loss: 0.1897 - acc: 0.9229 - val_loss: 0.3766 - val_acc: 0.8662\n",
      "Epoch 31/50\n",
      "12198/12198 [==============================] - 145s - loss: 0.1786 - acc: 0.9279 - val_loss: 0.4527 - val_acc: 0.8623\n",
      "Epoch 32/50\n",
      "12198/12198 [==============================] - 145s - loss: 0.1728 - acc: 0.9311 - val_loss: 0.4064 - val_acc: 0.8633\n",
      "Epoch 33/50\n",
      "12198/12198 [==============================] - 144s - loss: 0.1893 - acc: 0.9250 - val_loss: 0.3870 - val_acc: 0.8613\n",
      "Epoch 34/50\n",
      "12198/12198 [==============================] - 146s - loss: 0.1880 - acc: 0.9253 - val_loss: 0.3886 - val_acc: 0.8692\n",
      "Epoch 35/50\n",
      "12198/12198 [==============================] - 145s - loss: 0.1672 - acc: 0.9344 - val_loss: 0.4596 - val_acc: 0.8504\n",
      "Epoch 36/50\n",
      "12198/12198 [==============================] - 144s - loss: 0.1610 - acc: 0.9329 - val_loss: 0.4256 - val_acc: 0.8669\n",
      "Epoch 37/50\n",
      "12198/12198 [==============================] - 145s - loss: 0.1596 - acc: 0.9344 - val_loss: 0.4235 - val_acc: 0.8705\n",
      "Epoch 38/50\n",
      "12198/12198 [==============================] - 144s - loss: 0.1651 - acc: 0.9333 - val_loss: 0.4543 - val_acc: 0.8596\n",
      "Epoch 39/50\n",
      "12198/12198 [==============================] - 145s - loss: 0.1557 - acc: 0.9382 - val_loss: 0.4427 - val_acc: 0.8662\n",
      "Epoch 40/50\n",
      "12198/12198 [==============================] - 144s - loss: 0.1558 - acc: 0.9371 - val_loss: 0.4607 - val_acc: 0.8530\n",
      "Epoch 41/50\n",
      "12198/12198 [==============================] - 145s - loss: 0.1461 - acc: 0.9410 - val_loss: 0.4565 - val_acc: 0.8633\n",
      "Epoch 42/50\n",
      "12198/12198 [==============================] - 145s - loss: 0.1365 - acc: 0.9444 - val_loss: 0.4703 - val_acc: 0.8600\n",
      "Epoch 43/50\n",
      "12198/12198 [==============================] - 145s - loss: 0.1310 - acc: 0.9461 - val_loss: 0.5031 - val_acc: 0.8705\n",
      "Epoch 44/50\n",
      "12198/12198 [==============================] - 145s - loss: 0.1247 - acc: 0.9480 - val_loss: 0.4818 - val_acc: 0.8643\n",
      "Epoch 45/50\n",
      "12198/12198 [==============================] - 145s - loss: 0.1173 - acc: 0.9520 - val_loss: 0.5398 - val_acc: 0.8662\n",
      "Epoch 46/50\n",
      "12198/12198 [==============================] - 146s - loss: 0.1194 - acc: 0.9508 - val_loss: 0.5055 - val_acc: 0.8649\n",
      "Epoch 47/50\n",
      "12198/12198 [==============================] - 145s - loss: 0.1230 - acc: 0.9512 - val_loss: 0.5328 - val_acc: 0.8656\n",
      "Epoch 48/50\n",
      "12198/12198 [==============================] - 145s - loss: 0.1219 - acc: 0.9491 - val_loss: 0.5247 - val_acc: 0.8696\n",
      "Epoch 49/50\n",
      "12198/12198 [==============================] - 145s - loss: 0.1245 - acc: 0.9492 - val_loss: 0.4557 - val_acc: 0.8676\n",
      "Epoch 50/50\n",
      "12198/12198 [==============================] - 145s - loss: 0.1437 - acc: 0.9427 - val_loss: 0.4484 - val_acc: 0.8643\n"
     ]
    },
    {
     "data": {
      "text/plain": [
       "<keras.callbacks.History at 0x7f5fe98ba8d0>"
      ]
     },
     "execution_count": 290,
     "metadata": {},
     "output_type": "execute_result"
    }
   ],
   "source": [
    "batch_size=1000\n",
    "model.fit(train_X, train_Y,batch_size=batch_size,nb_epoch=50,validation_data=(test_X, test_Y))"
   ]
  },
  {
   "cell_type": "code",
   "execution_count": 460,
   "metadata": {
    "collapsed": false
   },
   "outputs": [
    {
     "name": "stdout",
     "output_type": "stream",
     "text": [
      "3028/3028 [==============================] - 16s    \n",
      "Test score: 0.448404541104\n",
      "Test accuracy: 0.864266842879\n"
     ]
    }
   ],
   "source": [
    "score, acc = model.evaluate(test_X, test_Y)\n",
    "print('Test score:', score)\n",
    "print('Test accuracy:', acc)"
   ]
  }
 ],
 "metadata": {
  "anaconda-cloud": {},
  "kernelspec": {
   "display_name": "Python [Root]",
   "language": "python",
   "name": "Python [Root]"
  },
  "language_info": {
   "codemirror_mode": {
    "name": "ipython",
    "version": 3
   },
   "file_extension": ".py",
   "mimetype": "text/x-python",
   "name": "python",
   "nbconvert_exporter": "python",
   "pygments_lexer": "ipython3",
   "version": "3.5.4"
  }
 },
 "nbformat": 4,
 "nbformat_minor": 1
}
